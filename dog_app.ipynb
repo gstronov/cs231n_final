{
 "cells": [
  {
   "cell_type": "code",
   "execution_count": 1,
   "metadata": {},
   "outputs": [
    {
     "name": "stdout",
     "output_type": "stream",
     "text": [
      "Requirement already satisfied: keras in /opt/anaconda3/lib/python3.7/site-packages (2.2.4)\n",
      "Requirement already satisfied: numpy>=1.9.1 in /opt/anaconda3/lib/python3.7/site-packages (from keras) (1.15.4)\n",
      "Requirement already satisfied: scipy>=0.14 in /opt/anaconda3/lib/python3.7/site-packages (from keras) (1.1.0)\n",
      "Requirement already satisfied: pyyaml in /opt/anaconda3/lib/python3.7/site-packages (from keras) (5.1)\n",
      "Requirement already satisfied: six>=1.9.0 in /opt/anaconda3/lib/python3.7/site-packages (from keras) (1.12.0)\n",
      "Requirement already satisfied: keras-applications>=1.0.6 in /opt/anaconda3/lib/python3.7/site-packages (from keras) (1.0.7)\n",
      "Requirement already satisfied: keras-preprocessing>=1.0.5 in /opt/anaconda3/lib/python3.7/site-packages (from keras) (1.0.9)\n",
      "Requirement already satisfied: h5py in /opt/anaconda3/lib/python3.7/site-packages (from keras) (2.8.0)\n",
      "Note: you may need to restart the kernel to use updated packages.\n"
     ]
    }
   ],
   "source": [
    "pip install keras"
   ]
  },
  {
   "cell_type": "code",
   "execution_count": 2,
   "metadata": {},
   "outputs": [
    {
     "name": "stdout",
     "output_type": "stream",
     "text": [
      "Requirement already satisfied: tensorflow in /opt/anaconda3/lib/python3.7/site-packages (1.13.1)\n",
      "Requirement already satisfied: grpcio>=1.8.6 in /opt/anaconda3/lib/python3.7/site-packages (from tensorflow) (1.20.0)\n",
      "Requirement already satisfied: wheel>=0.26 in /opt/anaconda3/lib/python3.7/site-packages (from tensorflow) (0.32.3)\n",
      "Requirement already satisfied: termcolor>=1.1.0 in /opt/anaconda3/lib/python3.7/site-packages (from tensorflow) (1.1.0)\n",
      "Requirement already satisfied: tensorflow-estimator<1.14.0rc0,>=1.13.0 in /opt/anaconda3/lib/python3.7/site-packages (from tensorflow) (1.13.0)\n",
      "Requirement already satisfied: keras-preprocessing>=1.0.5 in /opt/anaconda3/lib/python3.7/site-packages (from tensorflow) (1.0.9)\n",
      "Requirement already satisfied: keras-applications>=1.0.6 in /opt/anaconda3/lib/python3.7/site-packages (from tensorflow) (1.0.7)\n",
      "Requirement already satisfied: numpy>=1.13.3 in /opt/anaconda3/lib/python3.7/site-packages (from tensorflow) (1.15.4)\n",
      "Requirement already satisfied: protobuf>=3.6.1 in /opt/anaconda3/lib/python3.7/site-packages (from tensorflow) (3.7.1)\n",
      "Requirement already satisfied: astor>=0.6.0 in /opt/anaconda3/lib/python3.7/site-packages (from tensorflow) (0.7.1)\n",
      "Requirement already satisfied: absl-py>=0.1.6 in /opt/anaconda3/lib/python3.7/site-packages (from tensorflow) (0.7.1)\n",
      "Requirement already satisfied: six>=1.10.0 in /opt/anaconda3/lib/python3.7/site-packages (from tensorflow) (1.12.0)\n",
      "Requirement already satisfied: tensorboard<1.14.0,>=1.13.0 in /opt/anaconda3/lib/python3.7/site-packages (from tensorflow) (1.13.1)\n",
      "Requirement already satisfied: gast>=0.2.0 in /opt/anaconda3/lib/python3.7/site-packages (from tensorflow) (0.2.2)\n",
      "Requirement already satisfied: mock>=2.0.0 in /opt/anaconda3/lib/python3.7/site-packages (from tensorflow-estimator<1.14.0rc0,>=1.13.0->tensorflow) (2.0.0)\n",
      "Requirement already satisfied: h5py in /opt/anaconda3/lib/python3.7/site-packages (from keras-applications>=1.0.6->tensorflow) (2.8.0)\n",
      "Requirement already satisfied: setuptools in /opt/anaconda3/lib/python3.7/site-packages (from protobuf>=3.6.1->tensorflow) (40.6.3)\n",
      "Requirement already satisfied: markdown>=2.6.8 in /opt/anaconda3/lib/python3.7/site-packages (from tensorboard<1.14.0,>=1.13.0->tensorflow) (3.1)\n",
      "Requirement already satisfied: werkzeug>=0.11.15 in /opt/anaconda3/lib/python3.7/site-packages (from tensorboard<1.14.0,>=1.13.0->tensorflow) (0.14.1)\n",
      "Requirement already satisfied: pbr>=0.11 in /opt/anaconda3/lib/python3.7/site-packages (from mock>=2.0.0->tensorflow-estimator<1.14.0rc0,>=1.13.0->tensorflow) (5.1.3)\n",
      "Note: you may need to restart the kernel to use updated packages.\n"
     ]
    }
   ],
   "source": [
    "pip install tensorflow"
   ]
  },
  {
   "cell_type": "code",
   "execution_count": 3,
   "metadata": {},
   "outputs": [
    {
     "name": "stderr",
     "output_type": "stream",
     "text": [
      "Using TensorFlow backend.\n"
     ]
    },
    {
     "name": "stdout",
     "output_type": "stream",
     "text": [
      "There are 133 total dog categories.\n",
      "There are 8351 total dog images.\n",
      "\n",
      "There are 6680 training dog images.\n",
      "There are 835 validation dog images.\n",
      "There are 836 test dog images.\n"
     ]
    }
   ],
   "source": [
    "from sklearn.datasets import load_files       \n",
    "from keras.utils import np_utils\n",
    "import numpy as np\n",
    "from glob import glob\n",
    "\n",
    "def load_dataset(path):\n",
    "    data = load_files(path)\n",
    "    dog_files = np.array(data['filenames'])\n",
    "    dog_targets = np_utils.to_categorical(np.array(data['target']), 133)\n",
    "    return dog_files, dog_targets\n",
    "\n",
    "train_files, train_targets = load_dataset('dogImages/train')\n",
    "valid_files, valid_targets = load_dataset('dogImages/valid')\n",
    "test_files, test_targets = load_dataset('dogImages/test')\n",
    "\n",
    "dog_names = [item[20:-1] for item in sorted(glob(\"dogImages/train/*/\"))]\n",
    "\n",
    "print('There are %d total dog categories.' % len(dog_names))\n",
    "print('There are %s total dog images.\\n' % len(np.hstack([train_files, valid_files, test_files])))\n",
    "print('There are %d training dog images.' % len(train_files))\n",
    "print('There are %d validation dog images.' % len(valid_files))\n",
    "print('There are %d test dog images.'% len(test_files))"
   ]
  },
  {
   "cell_type": "code",
   "execution_count": 4,
   "metadata": {},
   "outputs": [
    {
     "name": "stdout",
     "output_type": "stream",
     "text": [
      "WARNING:tensorflow:From /opt/anaconda3/lib/python3.7/site-packages/tensorflow/python/framework/op_def_library.py:263: colocate_with (from tensorflow.python.framework.ops) is deprecated and will be removed in a future version.\n",
      "Instructions for updating:\n",
      "Colocations handled automatically by placer.\n"
     ]
    }
   ],
   "source": [
    "from keras.applications.resnet50 import ResNet50\n",
    "\n",
    "ResNet50_model = ResNet50(weights='imagenet')"
   ]
  },
  {
   "cell_type": "code",
   "execution_count": 5,
   "metadata": {},
   "outputs": [],
   "source": [
    "from keras.preprocessing import image                  \n",
    "from tqdm import tqdm\n",
    "from keras.applications.resnet50 import preprocess_input, decode_predictions\n",
    "\n",
    "def path_to_tensor(img_path):\n",
    "    # loads RGB image as PIL.Image.Image type\n",
    "    img = image.load_img(img_path, target_size=(224, 224))\n",
    "    \n",
    "    x = image.img_to_array(img)\n",
    "    return np.expand_dims(x, axis=0)\n",
    "\n",
    "\n",
    "def paths_to_tensor(img_paths):\n",
    "    list_of_tensors = [path_to_tensor(img_path) for img_path in tqdm(img_paths)]\n",
    "    return np.vstack(list_of_tensors)"
   ]
  },
  {
   "cell_type": "code",
   "execution_count": 8,
   "metadata": {},
   "outputs": [
    {
     "name": "stderr",
     "output_type": "stream",
     "text": [
      "100%|██████████| 6680/6680 [01:04<00:00, 104.36it/s]\n",
      "100%|██████████| 835/835 [00:07<00:00, 117.72it/s]\n",
      "100%|██████████| 836/836 [00:07<00:00, 117.43it/s]\n"
     ]
    }
   ],
   "source": [
    "from PIL import ImageFile                            \n",
    "ImageFile.LOAD_TRUNCATED_IMAGES = True\n",
    "from time import time\n",
    "\n",
    "train_tensors = paths_to_tensor(train_files).astype('float32')/255\n",
    "valid_tensors = paths_to_tensor(valid_files).astype('float32')/255\n",
    "test_tensors = paths_to_tensor(test_files).astype('float32')/255"
   ]
  },
  {
   "cell_type": "code",
   "execution_count": 9,
   "metadata": {},
   "outputs": [
    {
     "name": "stdout",
     "output_type": "stream",
     "text": [
      "_________________________________________________________________\n",
      "Layer (type)                 Output Shape              Param #   \n",
      "=================================================================\n",
      "conv2d_1 (Conv2D)            (None, 224, 224, 16)      208       \n",
      "_________________________________________________________________\n",
      "max_pooling2d_2 (MaxPooling2 (None, 112, 112, 16)      0         \n",
      "_________________________________________________________________\n",
      "conv2d_2 (Conv2D)            (None, 112, 112, 32)      2080      \n",
      "_________________________________________________________________\n",
      "max_pooling2d_3 (MaxPooling2 (None, 56, 56, 32)        0         \n",
      "_________________________________________________________________\n",
      "conv2d_3 (Conv2D)            (None, 56, 56, 64)        8256      \n",
      "_________________________________________________________________\n",
      "max_pooling2d_4 (MaxPooling2 (None, 28, 28, 64)        0         \n",
      "_________________________________________________________________\n",
      "conv2d_4 (Conv2D)            (None, 28, 28, 64)        16448     \n",
      "_________________________________________________________________\n",
      "max_pooling2d_5 (MaxPooling2 (None, 14, 14, 64)        0         \n",
      "_________________________________________________________________\n",
      "conv2d_5 (Conv2D)            (None, 14, 14, 64)        16448     \n",
      "_________________________________________________________________\n",
      "global_average_pooling2d_1 ( (None, 64)                0         \n",
      "_________________________________________________________________\n",
      "dense_1 (Dense)              (None, 64)                4160      \n",
      "_________________________________________________________________\n",
      "dense_2 (Dense)              (None, 133)               8645      \n",
      "=================================================================\n",
      "Total params: 56,245\n",
      "Trainable params: 56,245\n",
      "Non-trainable params: 0\n",
      "_________________________________________________________________\n"
     ]
    }
   ],
   "source": [
    "from keras.layers import Conv2D, MaxPooling2D, GlobalAveragePooling2D\n",
    "from keras.layers import Dropout, Flatten, Dense\n",
    "from keras.models import Sequential\n",
    "from keras.layers.advanced_activations import ELU\n",
    "from keras.layers.normalization import BatchNormalization\n",
    "\n",
    "model = Sequential()\n",
    "\n",
    "model.add(Conv2D(filters=16,\n",
    "                kernel_size=2,\n",
    "                strides=1,\n",
    "                padding=\"same\",\n",
    "                input_shape=(224, 224, 3)))\n",
    "\n",
    "model.add(MaxPooling2D(pool_size=2))\n",
    "\n",
    "model.add(Conv2D(filters=32,\n",
    "                kernel_size=2,\n",
    "                strides=1,\n",
    "                padding=\"same\"))\n",
    "\n",
    "model.add(MaxPooling2D(pool_size=2))\n",
    "\n",
    "model.add(Conv2D(filters=64,\n",
    "                kernel_size=2,\n",
    "                strides=1,\n",
    "                padding=\"same\"))\n",
    "\n",
    "model.add(MaxPooling2D(pool_size=2))\n",
    "\n",
    "model.add(Conv2D(filters=64,\n",
    "                kernel_size=2,\n",
    "                strides=1,\n",
    "                padding=\"same\"))\n",
    "\n",
    "model.add(MaxPooling2D(pool_size=2))\n",
    "\n",
    "model.add(Conv2D(filters=64,\n",
    "                kernel_size=2,\n",
    "                strides=1,\n",
    "                padding=\"same\"))\n",
    "\n",
    "model.add(GlobalAveragePooling2D())\n",
    "\n",
    "model.add(Dense(64, activation=\"relu\"))\n",
    "\n",
    "model.add(Dense(133, activation=\"softmax\"))\n",
    "\n",
    "model.summary()\n"
   ]
  },
  {
   "cell_type": "code",
   "execution_count": 10,
   "metadata": {},
   "outputs": [],
   "source": [
    "model.compile(optimizer='rmsprop', loss='categorical_crossentropy', metrics=['accuracy'])"
   ]
  },
  {
   "cell_type": "code",
   "execution_count": 11,
   "metadata": {},
   "outputs": [],
   "source": [
    "from keras.callbacks import ModelCheckpoint  \n",
    "from keras.preprocessing.image import ImageDataGenerator\n",
    "import matplotlib.pyplot as plt"
   ]
  },
  {
   "cell_type": "code",
   "execution_count": 12,
   "metadata": {},
   "outputs": [
    {
     "name": "stdout",
     "output_type": "stream",
     "text": [
      "WARNING:tensorflow:From /opt/anaconda3/lib/python3.7/site-packages/tensorflow/python/ops/math_ops.py:3066: to_int32 (from tensorflow.python.ops.math_ops) is deprecated and will be removed in a future version.\n",
      "Instructions for updating:\n",
      "Use tf.cast instead.\n",
      "Epoch 1/25\n",
      "334/334 [==============================] - 232s 695ms/step - loss: 4.8908 - acc: 0.0090 - val_loss: 4.8822 - val_acc: 0.0132\n",
      "\n",
      "Epoch 00001: val_loss improved from inf to 4.88222, saving model to saved_models/weights.best.from_scratch.hdf5\n",
      "Epoch 2/25\n",
      "334/334 [==============================] - 232s 694ms/step - loss: 4.8662 - acc: 0.0145 - val_loss: 4.8764 - val_acc: 0.0108\n",
      "\n",
      "Epoch 00002: val_loss improved from 4.88222 to 4.87644, saving model to saved_models/weights.best.from_scratch.hdf5\n",
      "Epoch 3/25\n",
      "334/334 [==============================] - 230s 688ms/step - loss: 4.8313 - acc: 0.0193 - val_loss: 4.8186 - val_acc: 0.0168\n",
      "\n",
      "Epoch 00003: val_loss improved from 4.87644 to 4.81856, saving model to saved_models/weights.best.from_scratch.hdf5\n",
      "Epoch 4/25\n",
      "334/334 [==============================] - 229s 687ms/step - loss: 4.7926 - acc: 0.0204 - val_loss: 4.7773 - val_acc: 0.0228\n",
      "\n",
      "Epoch 00004: val_loss improved from 4.81856 to 4.77730, saving model to saved_models/weights.best.from_scratch.hdf5\n",
      "Epoch 5/25\n",
      "334/334 [==============================] - 230s 689ms/step - loss: 4.7530 - acc: 0.0247 - val_loss: 4.7805 - val_acc: 0.0251\n",
      "\n",
      "Epoch 00005: val_loss did not improve from 4.77730\n",
      "Epoch 6/25\n",
      "334/334 [==============================] - 231s 692ms/step - loss: 4.6940 - acc: 0.0287 - val_loss: 4.7447 - val_acc: 0.0204\n",
      "\n",
      "Epoch 00006: val_loss improved from 4.77730 to 4.74469, saving model to saved_models/weights.best.from_scratch.hdf5\n",
      "Epoch 7/25\n",
      "334/334 [==============================] - 229s 685ms/step - loss: 4.6351 - acc: 0.0350 - val_loss: 4.6336 - val_acc: 0.0287\n",
      "\n",
      "Epoch 00007: val_loss improved from 4.74469 to 4.63362, saving model to saved_models/weights.best.from_scratch.hdf5\n",
      "Epoch 8/25\n",
      "334/334 [==============================] - 229s 685ms/step - loss: 4.5909 - acc: 0.0356 - val_loss: 4.5670 - val_acc: 0.0383\n",
      "\n",
      "Epoch 00008: val_loss improved from 4.63362 to 4.56705, saving model to saved_models/weights.best.from_scratch.hdf5\n",
      "Epoch 9/25\n",
      "334/334 [==============================] - 229s 686ms/step - loss: 4.5084 - acc: 0.0401 - val_loss: 4.6176 - val_acc: 0.0395\n",
      "\n",
      "Epoch 00009: val_loss did not improve from 4.56705\n",
      "Epoch 10/25\n",
      "334/334 [==============================] - 229s 686ms/step - loss: 4.4378 - acc: 0.0493 - val_loss: 4.4281 - val_acc: 0.0611\n",
      "\n",
      "Epoch 00010: val_loss improved from 4.56705 to 4.42809, saving model to saved_models/weights.best.from_scratch.hdf5\n",
      "Epoch 11/25\n",
      "334/334 [==============================] - 228s 684ms/step - loss: 4.3924 - acc: 0.0509 - val_loss: 4.4496 - val_acc: 0.0515\n",
      "\n",
      "Epoch 00011: val_loss did not improve from 4.42809\n",
      "Epoch 12/25\n",
      "334/334 [==============================] - 228s 684ms/step - loss: 4.3421 - acc: 0.0540 - val_loss: 4.3633 - val_acc: 0.0611\n",
      "\n",
      "Epoch 00012: val_loss improved from 4.42809 to 4.36327, saving model to saved_models/weights.best.from_scratch.hdf5\n",
      "Epoch 13/25\n",
      "334/334 [==============================] - 229s 684ms/step - loss: 4.3239 - acc: 0.0576 - val_loss: 4.3495 - val_acc: 0.0671\n",
      "\n",
      "Epoch 00013: val_loss improved from 4.36327 to 4.34948, saving model to saved_models/weights.best.from_scratch.hdf5\n",
      "Epoch 14/25\n",
      "334/334 [==============================] - 229s 685ms/step - loss: 4.3009 - acc: 0.0581 - val_loss: 4.4003 - val_acc: 0.0515\n",
      "\n",
      "Epoch 00014: val_loss did not improve from 4.34948\n",
      "Epoch 15/25\n",
      "334/334 [==============================] - 228s 682ms/step - loss: 4.2825 - acc: 0.0639 - val_loss: 4.3834 - val_acc: 0.0659\n",
      "\n",
      "Epoch 00015: val_loss did not improve from 4.34948\n",
      "Epoch 16/25\n",
      "334/334 [==============================] - 228s 683ms/step - loss: 4.2528 - acc: 0.0623 - val_loss: 4.3467 - val_acc: 0.0599\n",
      "\n",
      "Epoch 00016: val_loss improved from 4.34948 to 4.34671, saving model to saved_models/weights.best.from_scratch.hdf5\n",
      "Epoch 17/25\n",
      "334/334 [==============================] - 228s 684ms/step - loss: 4.2382 - acc: 0.0675 - val_loss: 4.3707 - val_acc: 0.0599\n",
      "\n",
      "Epoch 00017: val_loss did not improve from 4.34671\n",
      "Epoch 18/25\n",
      "334/334 [==============================] - 229s 686ms/step - loss: 4.2153 - acc: 0.0663 - val_loss: 4.3495 - val_acc: 0.0754\n",
      "\n",
      "Epoch 00018: val_loss did not improve from 4.34671\n",
      "Epoch 19/25\n",
      "334/334 [==============================] - 228s 683ms/step - loss: 4.2063 - acc: 0.0705 - val_loss: 4.3639 - val_acc: 0.0635\n",
      "\n",
      "Epoch 00019: val_loss did not improve from 4.34671\n",
      "Epoch 20/25\n",
      "334/334 [==============================] - 230s 688ms/step - loss: 4.1958 - acc: 0.0681 - val_loss: 4.3037 - val_acc: 0.0671\n",
      "\n",
      "Epoch 00020: val_loss improved from 4.34671 to 4.30369, saving model to saved_models/weights.best.from_scratch.hdf5\n",
      "Epoch 21/25\n",
      "334/334 [==============================] - 230s 688ms/step - loss: 4.1745 - acc: 0.0729 - val_loss: 4.2822 - val_acc: 0.0647\n",
      "\n",
      "Epoch 00021: val_loss improved from 4.30369 to 4.28222, saving model to saved_models/weights.best.from_scratch.hdf5\n",
      "Epoch 22/25\n",
      "334/334 [==============================] - 230s 688ms/step - loss: 4.1563 - acc: 0.0762 - val_loss: 4.3119 - val_acc: 0.0743\n",
      "\n",
      "Epoch 00022: val_loss did not improve from 4.28222\n",
      "Epoch 23/25\n",
      "334/334 [==============================] - 229s 685ms/step - loss: 4.1333 - acc: 0.0771 - val_loss: 4.2863 - val_acc: 0.0647\n",
      "\n",
      "Epoch 00023: val_loss did not improve from 4.28222\n",
      "Epoch 24/25\n",
      "334/334 [==============================] - 231s 691ms/step - loss: 4.1287 - acc: 0.0814 - val_loss: 4.2912 - val_acc: 0.0683\n",
      "\n",
      "Epoch 00024: val_loss did not improve from 4.28222\n",
      "Epoch 25/25\n",
      "334/334 [==============================] - 230s 689ms/step - loss: 4.1187 - acc: 0.0763 - val_loss: 4.3117 - val_acc: 0.0611\n",
      "\n",
      "Epoch 00025: val_loss did not improve from 4.28222\n",
      "The total computation time is 95.66487312316895   minutes\n"
     ]
    },
    {
     "data": {
      "image/png": "[encoded data removed]",
      "text/plain": [
       "<Figure size 432x288 with 1 Axes>"
      ]
     },
     "metadata": {
      "needs_background": "light"
     },
     "output_type": "display_data"
    },
    {
     "data": {
      "image/png": "[encoded data removed]",
      "text/plain": [
       "<Figure size 432x288 with 1 Axes>"
      ]
     },
     "metadata": {
      "needs_background": "light"
     },
     "output_type": "display_data"
    }
   ],
   "source": [
    "epochs = 25\n",
    "\n",
    "start = time()\n",
    "\n",
    "train_datagen_augmentation = ImageDataGenerator(\n",
    "                rotation_range=40,\n",
    "                width_shift_range=0.2,\n",
    "                height_shift_range=0.2,\n",
    "                shear_range=0.2,\n",
    "                zoom_range=0.2, \n",
    "                horizontal_flip = True)\n",
    "\n",
    "train_datagen_augmentation.fit(train_tensors)\n",
    "\n",
    "batch_size = 20\n",
    "\n",
    "checkpointer = ModelCheckpoint(filepath='saved_models/weights.best.from_scratch.hdf5', \n",
    "                               verbose=1, save_best_only=True)\n",
    "\n",
    "\n",
    "history = model.fit_generator(train_datagen_augmentation.flow(train_tensors, train_targets, batch_size=batch_size),  \n",
    "            steps_per_epoch=train_tensors.shape[0] // batch_size,\n",
    "            epochs=epochs,\n",
    "            verbose=1,\n",
    "            callbacks=[checkpointer],\n",
    "            validation_data=(valid_tensors, valid_targets)\n",
    "            )\n",
    "              \n",
    "end = time()\n",
    "total_time = end - start\n",
    "print(\"The total computation time is {} \".format(total_time/60), \" minutes\")\n",
    "\n",
    "# summarize history for accuracy\n",
    "plt.plot(history.history['acc'])\n",
    "plt.plot(history.history['val_acc'])\n",
    "plt.title('model accuracy')\n",
    "plt.ylabel('accuracy')\n",
    "plt.xlabel('epoch')\n",
    "plt.legend(['train', 'val'], loc='upper left')\n",
    "plt.show()\n",
    "# summarize history for loss\n",
    "plt.plot(history.history['loss'])\n",
    "plt.plot(history.history['val_loss'])\n",
    "plt.title('model loss')\n",
    "plt.ylabel('loss')\n",
    "plt.xlabel('epoch')\n",
    "plt.legend(['train', 'val'], loc='upper left')\n",
    "plt.show()"
   ]
  },
  {
   "cell_type": "code",
   "execution_count": 13,
   "metadata": {},
   "outputs": [],
   "source": [
    "model.load_weights('saved_models/weights.best.from_scratch.hdf5')"
   ]
  },
  {
   "cell_type": "code",
   "execution_count": 14,
   "metadata": {},
   "outputs": [
    {
     "name": "stdout",
     "output_type": "stream",
     "text": [
      "Test accuracy: 7.0574%\n"
     ]
    }
   ],
   "source": [
    "dog_breed_predictions = [np.argmax(model.predict(np.expand_dims(tensor, axis=0))) for tensor in test_tensors]\n",
    "\n",
    "test_accuracy = 100*np.sum(np.array(dog_breed_predictions)==np.argmax(test_targets, axis=1))/len(dog_breed_predictions)\n",
    "print('Test accuracy: %.4f%%' % test_accuracy)"
   ]
  },
  {
   "cell_type": "code",
   "execution_count": 15,
   "metadata": {},
   "outputs": [],
   "source": [
    "bottleneck_features = np.load('bottleneck_features/DogVGG16Data.npz')\n",
    "train_VGG16 = bottleneck_features['train']\n",
    "valid_VGG16 = bottleneck_features['valid']\n",
    "test_VGG16 = bottleneck_features['test']"
   ]
  },
  {
   "cell_type": "code",
   "execution_count": 16,
   "metadata": {},
   "outputs": [
    {
     "name": "stdout",
     "output_type": "stream",
     "text": [
      "_________________________________________________________________\n",
      "Layer (type)                 Output Shape              Param #   \n",
      "=================================================================\n",
      "global_average_pooling2d_2 ( (None, 512)               0         \n",
      "_________________________________________________________________\n",
      "dense_3 (Dense)              (None, 133)               68229     \n",
      "=================================================================\n",
      "Total params: 68,229\n",
      "Trainable params: 68,229\n",
      "Non-trainable params: 0\n",
      "_________________________________________________________________\n"
     ]
    }
   ],
   "source": [
    "VGG16_model = Sequential()\n",
    "VGG16_model.add(GlobalAveragePooling2D(input_shape=train_VGG16.shape[1:]))\n",
    "VGG16_model.add(Dense(133, activation='softmax'))\n",
    "\n",
    "VGG16_model.summary()"
   ]
  },
  {
   "cell_type": "code",
   "execution_count": 17,
   "metadata": {},
   "outputs": [],
   "source": [
    "VGG16_model.compile(loss='categorical_crossentropy', optimizer='rmsprop', metrics=['accuracy'])"
   ]
  },
  {
   "cell_type": "code",
   "execution_count": 18,
   "metadata": {},
   "outputs": [
    {
     "name": "stdout",
     "output_type": "stream",
     "text": [
      "Train on 6680 samples, validate on 835 samples\n",
      "Epoch 1/20\n",
      "6680/6680 [==============================] - 3s 410us/step - loss: 12.0373 - acc: 0.1383 - val_loss: 10.6138 - val_acc: 0.2527\n",
      "\n",
      "Epoch 00001: val_loss improved from inf to 10.61376, saving model to saved_models/weights.best.VGG16.hdf5\n",
      "Epoch 2/20\n",
      "6680/6680 [==============================] - 2s 285us/step - loss: 10.0652 - acc: 0.2942 - val_loss: 9.9514 - val_acc: 0.2946\n",
      "\n",
      "Epoch 00002: val_loss improved from 10.61376 to 9.95138, saving model to saved_models/weights.best.VGG16.hdf5\n",
      "Epoch 3/20\n",
      "6680/6680 [==============================] - 2s 260us/step - loss: 9.5697 - acc: 0.3506 - val_loss: 9.6716 - val_acc: 0.3257\n",
      "\n",
      "Epoch 00003: val_loss improved from 9.95138 to 9.67160, saving model to saved_models/weights.best.VGG16.hdf5\n",
      "Epoch 4/20\n",
      "6680/6680 [==============================] - 2s 265us/step - loss: 9.3159 - acc: 0.3778 - val_loss: 9.5188 - val_acc: 0.3473\n",
      "\n",
      "Epoch 00004: val_loss improved from 9.67160 to 9.51881, saving model to saved_models/weights.best.VGG16.hdf5\n",
      "Epoch 5/20\n",
      "6680/6680 [==============================] - 2s 277us/step - loss: 9.1257 - acc: 0.4015 - val_loss: 9.4057 - val_acc: 0.3593\n",
      "\n",
      "Epoch 00005: val_loss improved from 9.51881 to 9.40568, saving model to saved_models/weights.best.VGG16.hdf5\n",
      "Epoch 6/20\n",
      "6680/6680 [==============================] - 2s 279us/step - loss: 8.8481 - acc: 0.4115 - val_loss: 9.0704 - val_acc: 0.3737\n",
      "\n",
      "Epoch 00006: val_loss improved from 9.40568 to 9.07039, saving model to saved_models/weights.best.VGG16.hdf5\n",
      "Epoch 7/20\n",
      "6680/6680 [==============================] - 2s 266us/step - loss: 8.6080 - acc: 0.4337 - val_loss: 8.8871 - val_acc: 0.3796\n",
      "\n",
      "Epoch 00007: val_loss improved from 9.07039 to 8.88713, saving model to saved_models/weights.best.VGG16.hdf5\n",
      "Epoch 8/20\n",
      "6680/6680 [==============================] - 2s 272us/step - loss: 8.5025 - acc: 0.4490 - val_loss: 8.9085 - val_acc: 0.3796\n",
      "\n",
      "Epoch 00008: val_loss did not improve from 8.88713\n",
      "Epoch 9/20\n",
      "6680/6680 [==============================] - 2s 252us/step - loss: 8.4619 - acc: 0.4585 - val_loss: 8.9023 - val_acc: 0.3820\n",
      "\n",
      "Epoch 00009: val_loss did not improve from 8.88713\n",
      "Epoch 10/20\n",
      "6680/6680 [==============================] - 2s 261us/step - loss: 8.4026 - acc: 0.4626 - val_loss: 8.9025 - val_acc: 0.3784\n",
      "\n",
      "Epoch 00010: val_loss did not improve from 8.88713\n",
      "Epoch 11/20\n",
      "6680/6680 [==============================] - 2s 269us/step - loss: 8.2087 - acc: 0.4692 - val_loss: 8.6566 - val_acc: 0.3820\n",
      "\n",
      "Epoch 00011: val_loss improved from 8.88713 to 8.65661, saving model to saved_models/weights.best.VGG16.hdf5\n",
      "Epoch 12/20\n",
      "6680/6680 [==============================] - 2s 241us/step - loss: 7.8210 - acc: 0.4916 - val_loss: 8.2319 - val_acc: 0.4251\n",
      "\n",
      "Epoch 00012: val_loss improved from 8.65661 to 8.23185, saving model to saved_models/weights.best.VGG16.hdf5\n",
      "Epoch 13/20\n",
      "6680/6680 [==============================] - 2s 241us/step - loss: 7.5790 - acc: 0.5046 - val_loss: 8.0517 - val_acc: 0.4347\n",
      "\n",
      "Epoch 00013: val_loss improved from 8.23185 to 8.05166, saving model to saved_models/weights.best.VGG16.hdf5\n",
      "Epoch 14/20\n",
      "6680/6680 [==============================] - 2s 248us/step - loss: 7.3372 - acc: 0.5217 - val_loss: 7.9410 - val_acc: 0.4323\n",
      "\n",
      "Epoch 00014: val_loss improved from 8.05166 to 7.94102, saving model to saved_models/weights.best.VGG16.hdf5\n",
      "Epoch 15/20\n",
      "6680/6680 [==============================] - 2s 280us/step - loss: 7.1807 - acc: 0.5358 - val_loss: 7.8782 - val_acc: 0.4383\n",
      "\n",
      "Epoch 00015: val_loss improved from 7.94102 to 7.87815, saving model to saved_models/weights.best.VGG16.hdf5\n",
      "Epoch 16/20\n",
      "6680/6680 [==============================] - 2s 271us/step - loss: 7.0647 - acc: 0.5413 - val_loss: 7.7732 - val_acc: 0.4395\n",
      "\n",
      "Epoch 00016: val_loss improved from 7.87815 to 7.77322, saving model to saved_models/weights.best.VGG16.hdf5\n",
      "Epoch 17/20\n",
      "6680/6680 [==============================] - 2s 269us/step - loss: 6.9388 - acc: 0.5506 - val_loss: 7.5545 - val_acc: 0.4623\n",
      "\n",
      "Epoch 00017: val_loss improved from 7.77322 to 7.55449, saving model to saved_models/weights.best.VGG16.hdf5\n",
      "Epoch 18/20\n",
      "6680/6680 [==============================] - 2s 278us/step - loss: 6.8488 - acc: 0.5584 - val_loss: 7.4865 - val_acc: 0.4635\n",
      "\n",
      "Epoch 00018: val_loss improved from 7.55449 to 7.48652, saving model to saved_models/weights.best.VGG16.hdf5\n",
      "Epoch 19/20\n",
      "6680/6680 [==============================] - 2s 267us/step - loss: 6.7254 - acc: 0.5650 - val_loss: 7.4424 - val_acc: 0.4539\n",
      "\n",
      "Epoch 00019: val_loss improved from 7.48652 to 7.44242, saving model to saved_models/weights.best.VGG16.hdf5\n",
      "Epoch 20/20\n",
      "6680/6680 [==============================] - 2s 254us/step - loss: 6.5878 - acc: 0.5753 - val_loss: 7.3344 - val_acc: 0.4707\n",
      "\n",
      "Epoch 00020: val_loss improved from 7.44242 to 7.33436, saving model to saved_models/weights.best.VGG16.hdf5\n"
     ]
    },
    {
     "data": {
      "image/png": "[encoded data removed]",
      "text/plain": [
       "<Figure size 432x288 with 1 Axes>"
      ]
     },
     "metadata": {
      "needs_background": "light"
     },
     "output_type": "display_data"
    },
    {
     "data": {
      "image/png": "[encoded data removed]",
      "text/plain": [
       "<Figure size 432x288 with 1 Axes>"
      ]
     },
     "metadata": {
      "needs_background": "light"
     },
     "output_type": "display_data"
    }
   ],
   "source": [
    "checkpointer = ModelCheckpoint(filepath='saved_models/weights.best.VGG16.hdf5', \n",
    "                               verbose=1, save_best_only=True)\n",
    "\n",
    "history = VGG16_model.fit(train_VGG16, train_targets, \n",
    "          validation_data=(valid_VGG16, valid_targets),\n",
    "          epochs=20, batch_size=20, callbacks=[checkpointer], verbose=1)\n",
    "\n",
    "# summarize history for accuracy\n",
    "plt.plot(history.history['acc'])\n",
    "plt.plot(history.history['val_acc'])\n",
    "plt.title('model accuracy')\n",
    "plt.ylabel('accuracy')\n",
    "plt.xlabel('epoch')\n",
    "plt.legend(['train', 'val'], loc='upper left')\n",
    "plt.show()\n",
    "# summarize history for loss\n",
    "plt.plot(history.history['loss'])\n",
    "plt.plot(history.history['val_loss'])\n",
    "plt.title('model loss')\n",
    "plt.ylabel('loss')\n",
    "plt.xlabel('epoch')\n",
    "plt.legend(['train', 'val'], loc='upper left')\n",
    "plt.show()"
   ]
  },
  {
   "cell_type": "code",
   "execution_count": 19,
   "metadata": {},
   "outputs": [],
   "source": [
    "VGG16_model.load_weights('saved_models/weights.best.VGG16.hdf5')"
   ]
  },
  {
   "cell_type": "code",
   "execution_count": 20,
   "metadata": {},
   "outputs": [
    {
     "name": "stdout",
     "output_type": "stream",
     "text": [
      "Test accuracy: 47.0096%\n"
     ]
    }
   ],
   "source": [
    "VGG16_predictions = [np.argmax(VGG16_model.predict(np.expand_dims(feature, axis=0))) for feature in test_VGG16]\n",
    "\n",
    "test_accuracy = 100*np.sum(np.array(VGG16_predictions)==np.argmax(test_targets, axis=1))/len(VGG16_predictions)\n",
    "print('Test accuracy: %.4f%%' % test_accuracy)"
   ]
  },
  {
   "cell_type": "code",
   "execution_count": 21,
   "metadata": {},
   "outputs": [],
   "source": [
    "import os\n",
    "import zipfile\n",
    "import tarfile\n",
    "import requests\n",
    "\n",
    "def download_file(url, path='./'):\n",
    "    filename = url.split('/')[-1]\n",
    "    print('Downloading {}'.format(filename))\n",
    "    path = os.path.join(path, filename)\n",
    "    r = requests.get(url, stream=True)\n",
    "    with open(path, 'wb') as f:\n",
    "        for chunk in r.iter_content(chunk_size=1024): \n",
    "            if chunk: # filter out keep-alive new chunks\n",
    "                f.write(chunk)\n",
    "    print('Download complete')\n",
    "    return filename\n",
    "\n",
    "def extract(archive, folder):\n",
    "    print('Extracting {}'.format(archive))\n",
    "    \n",
    "    if (archive.endswith('tgz')):\n",
    "        tar = tarfile.open(archive, 'r:gz')\n",
    "        tar.extractall()\n",
    "        tar.close()\n",
    "    elif (archive.endswith('zip')):    \n",
    "        with zipfile.ZipFile(archive, 'r') as zip_ref:\n",
    "            zip_ref.extractall()\n",
    "    else:\n",
    "        print('Archive type {} not recognized'.format(archive))\n",
    "\n",
    "    if os.path.isdir(folder):\n",
    "        print('Extracting complete'.format(archive))\n",
    "    else:\n",
    "        print('Extracting failed'.format(archive))\n",
    "        \n",
    "def download_extract(url, folder, force_download=False):\n",
    "    filename = url.split('/')[-1]\n",
    "    downloadPath = os.path.join(os.getcwd(), folder)\n",
    "    if os.path.isdir(downloadPath) is False:\n",
    "        if os.path.exists(filename):\n",
    "            if force_download is False:\n",
    "                print('File {} found skipping download'.format(filename))\n",
    "            else:\n",
    "                print('Forcing download of {}'.format(filename))\n",
    "                download_file(url)\n",
    "            extract(filename, downloadPath)\n",
    "        else:\n",
    "            download_file(url)\n",
    "            extract(filename, downloadPath)\n"
   ]
  },
  {
   "cell_type": "code",
   "execution_count": 22,
   "metadata": {},
   "outputs": [
    {
     "data": {
      "text/plain": [
       "'\\nbottleneckFeaturesXceptionUrl = \"https://s3-us-west-1.amazonaws.com/udacity-aind/dog-project/DogXceptionData.npz\"\\nbottleneckFeaturesFolder = \"bottleneck_features\"\\ndownload_file(bottleneckFeaturesXceptionUrl, bottleneckFeaturesFolder)\\n'"
      ]
     },
     "execution_count": 22,
     "metadata": {},
     "output_type": "execute_result"
    }
   ],
   "source": [
    "\"\"\"\n",
    "bottleneckFeaturesXceptionUrl = \"https://s3-us-west-1.amazonaws.com/udacity-aind/dog-project/DogXceptionData.npz\"\n",
    "bottleneckFeaturesFolder = \"bottleneck_features\"\n",
    "download_file(bottleneckFeaturesXceptionUrl, bottleneckFeaturesFolder)\n",
    "\"\"\""
   ]
  },
  {
   "cell_type": "code",
   "execution_count": 23,
   "metadata": {},
   "outputs": [],
   "source": [
    "bottleneck_features = np.load('bottleneck_features/DogXceptionData.npz')\n",
    "train_Xception = bottleneck_features['train']\n",
    "valid_Xception = bottleneck_features['valid']\n",
    "test_Xception = bottleneck_features['test']"
   ]
  },
  {
   "cell_type": "code",
   "execution_count": 24,
   "metadata": {},
   "outputs": [
    {
     "name": "stdout",
     "output_type": "stream",
     "text": [
      "WARNING:tensorflow:From /opt/anaconda3/lib/python3.7/site-packages/keras/backend/tensorflow_backend.py:3445: calling dropout (from tensorflow.python.ops.nn_ops) with keep_prob is deprecated and will be removed in a future version.\n",
      "Instructions for updating:\n",
      "Please use `rate` instead of `keep_prob`. Rate should be set to `rate = 1 - keep_prob`.\n",
      "_________________________________________________________________\n",
      "Layer (type)                 Output Shape              Param #   \n",
      "=================================================================\n",
      "global_average_pooling2d_3 ( (None, 2048)              0         \n",
      "_________________________________________________________________\n",
      "dropout_1 (Dropout)          (None, 2048)              0         \n",
      "_________________________________________________________________\n",
      "dense_4 (Dense)              (None, 64)                131136    \n",
      "_________________________________________________________________\n",
      "dropout_2 (Dropout)          (None, 64)                0         \n",
      "_________________________________________________________________\n",
      "dense_5 (Dense)              (None, 133)               8645      \n",
      "=================================================================\n",
      "Total params: 139,781\n",
      "Trainable params: 139,781\n",
      "Non-trainable params: 0\n",
      "_________________________________________________________________\n"
     ]
    }
   ],
   "source": [
    "from keras.layers import Dense, Flatten, GlobalAveragePooling2D, Dropout\n",
    "from keras.layers.advanced_activations import ELU\n",
    "from keras.layers.normalization import BatchNormalization\n",
    "\n",
    "Xception_model = Sequential()\n",
    "BatchNormalization(axis=-1)\n",
    "Xception_model.add(GlobalAveragePooling2D(input_shape=train_Xception.shape[1:] ))\n",
    "\n",
    "Xception_model.add(Dropout(0.4))\n",
    "\n",
    "Xception_model.add(Dense(64, activation=\"relu\"))\n",
    "\n",
    "Xception_model.add(Dropout(0.3))\n",
    "\n",
    "Xception_model.add(Dense(133, activation=\"softmax\"))\n",
    "\n",
    "Xception_model.summary()"
   ]
  },
  {
   "cell_type": "code",
   "execution_count": 25,
   "metadata": {},
   "outputs": [],
   "source": [
    "Xception_model.compile(loss=\"categorical_crossentropy\",\n",
    "            optimizer=\"rmsprop\",\n",
    "             metrics=[\"accuracy\"])"
   ]
  },
  {
   "cell_type": "code",
   "execution_count": 26,
   "metadata": {},
   "outputs": [
    {
     "name": "stdout",
     "output_type": "stream",
     "text": [
      "Train on 6680 samples, validate on 835 samples\n",
      "Epoch 1/25\n",
      "6680/6680 [==============================] - 4s 604us/step - loss: 2.9312 - acc: 0.3813 - val_loss: 1.0915 - val_acc: 0.7341\n",
      "\n",
      "Epoch 00001: val_loss improved from inf to 1.09148, saving model to saved_models/weights.best.Xception.hdf5\n",
      "Epoch 2/25\n",
      "6680/6680 [==============================] - 3s 384us/step - loss: 1.2285 - acc: 0.6669 - val_loss: 0.6755 - val_acc: 0.8012\n",
      "\n",
      "Epoch 00002: val_loss improved from 1.09148 to 0.67553, saving model to saved_models/weights.best.Xception.hdf5\n",
      "Epoch 3/25\n",
      "6680/6680 [==============================] - 3s 380us/step - loss: 0.8962 - acc: 0.7353 - val_loss: 0.5702 - val_acc: 0.8168\n",
      "\n",
      "Epoch 00003: val_loss improved from 0.67553 to 0.57020, saving model to saved_models/weights.best.Xception.hdf5\n",
      "Epoch 4/25\n",
      "6680/6680 [==============================] - 3s 378us/step - loss: 0.7555 - acc: 0.7759 - val_loss: 0.5414 - val_acc: 0.8299\n",
      "\n",
      "Epoch 00004: val_loss improved from 0.57020 to 0.54136, saving model to saved_models/weights.best.Xception.hdf5\n",
      "Epoch 5/25\n",
      "6680/6680 [==============================] - 3s 376us/step - loss: 0.6748 - acc: 0.7958 - val_loss: 0.5156 - val_acc: 0.8311\n",
      "\n",
      "Epoch 00005: val_loss improved from 0.54136 to 0.51559, saving model to saved_models/weights.best.Xception.hdf5\n",
      "Epoch 6/25\n",
      "6680/6680 [==============================] - 3s 382us/step - loss: 0.6208 - acc: 0.8072 - val_loss: 0.5015 - val_acc: 0.8407\n",
      "\n",
      "Epoch 00006: val_loss improved from 0.51559 to 0.50151, saving model to saved_models/weights.best.Xception.hdf5\n",
      "Epoch 7/25\n",
      "6680/6680 [==============================] - 3s 386us/step - loss: 0.5869 - acc: 0.8171 - val_loss: 0.4948 - val_acc: 0.8419\n",
      "\n",
      "Epoch 00007: val_loss improved from 0.50151 to 0.49476, saving model to saved_models/weights.best.Xception.hdf5\n",
      "Epoch 8/25\n",
      "6680/6680 [==============================] - 3s 388us/step - loss: 0.5354 - acc: 0.8331 - val_loss: 0.4948 - val_acc: 0.8431\n",
      "\n",
      "Epoch 00008: val_loss did not improve from 0.49476\n",
      "Epoch 9/25\n",
      "6680/6680 [==============================] - 3s 376us/step - loss: 0.4941 - acc: 0.8418 - val_loss: 0.5104 - val_acc: 0.8359\n",
      "\n",
      "Epoch 00009: val_loss did not improve from 0.49476\n",
      "Epoch 10/25\n",
      "6680/6680 [==============================] - 3s 376us/step - loss: 0.4912 - acc: 0.8403 - val_loss: 0.4875 - val_acc: 0.8479\n",
      "\n",
      "Epoch 00010: val_loss improved from 0.49476 to 0.48749, saving model to saved_models/weights.best.Xception.hdf5\n",
      "Epoch 11/25\n",
      "6680/6680 [==============================] - 2s 369us/step - loss: 0.4783 - acc: 0.8485 - val_loss: 0.4619 - val_acc: 0.8479\n",
      "\n",
      "Epoch 00011: val_loss improved from 0.48749 to 0.46186, saving model to saved_models/weights.best.Xception.hdf5\n",
      "Epoch 12/25\n",
      "6680/6680 [==============================] - 3s 381us/step - loss: 0.4432 - acc: 0.8561 - val_loss: 0.4790 - val_acc: 0.8527\n",
      "\n",
      "Epoch 00012: val_loss did not improve from 0.46186\n",
      "Epoch 13/25\n",
      "6680/6680 [==============================] - 3s 385us/step - loss: 0.4377 - acc: 0.8587 - val_loss: 0.4809 - val_acc: 0.8443\n",
      "\n",
      "Epoch 00013: val_loss did not improve from 0.46186\n",
      "Epoch 14/25\n",
      "6680/6680 [==============================] - 3s 396us/step - loss: 0.4122 - acc: 0.8630 - val_loss: 0.5007 - val_acc: 0.8467\n",
      "\n",
      "Epoch 00014: val_loss did not improve from 0.46186\n",
      "Epoch 15/25\n",
      "6680/6680 [==============================] - 3s 377us/step - loss: 0.4199 - acc: 0.8615 - val_loss: 0.5074 - val_acc: 0.8503\n",
      "\n",
      "Epoch 00015: val_loss did not improve from 0.46186\n",
      "Epoch 16/25\n",
      "6680/6680 [==============================] - 3s 388us/step - loss: 0.3880 - acc: 0.8766 - val_loss: 0.5142 - val_acc: 0.8467\n",
      "\n",
      "Epoch 00016: val_loss did not improve from 0.46186\n",
      "Epoch 17/25\n",
      "6680/6680 [==============================] - 3s 377us/step - loss: 0.3842 - acc: 0.8753 - val_loss: 0.5163 - val_acc: 0.8491\n",
      "\n",
      "Epoch 00017: val_loss did not improve from 0.46186\n",
      "Epoch 18/25\n",
      "6680/6680 [==============================] - 4s 612us/step - loss: 0.3774 - acc: 0.8753 - val_loss: 0.5057 - val_acc: 0.8515\n",
      "\n",
      "Epoch 00018: val_loss did not improve from 0.46186\n",
      "Epoch 19/25\n",
      "6680/6680 [==============================] - 3s 409us/step - loss: 0.3585 - acc: 0.8817 - val_loss: 0.5180 - val_acc: 0.8431\n",
      "\n",
      "Epoch 00019: val_loss did not improve from 0.46186\n",
      "Epoch 20/25\n",
      "6680/6680 [==============================] - 3s 394us/step - loss: 0.3537 - acc: 0.8841 - val_loss: 0.5254 - val_acc: 0.8443\n",
      "\n",
      "Epoch 00020: val_loss did not improve from 0.46186\n",
      "Epoch 21/25\n",
      "6680/6680 [==============================] - 3s 383us/step - loss: 0.3678 - acc: 0.8756 - val_loss: 0.4974 - val_acc: 0.8575\n",
      "\n",
      "Epoch 00021: val_loss did not improve from 0.46186\n",
      "Epoch 22/25\n",
      "6680/6680 [==============================] - 3s 387us/step - loss: 0.3477 - acc: 0.8844 - val_loss: 0.5216 - val_acc: 0.8467\n",
      "\n",
      "Epoch 00022: val_loss did not improve from 0.46186\n",
      "Epoch 23/25\n",
      "6680/6680 [==============================] - 3s 378us/step - loss: 0.3411 - acc: 0.8861 - val_loss: 0.5157 - val_acc: 0.8467\n",
      "\n",
      "Epoch 00023: val_loss did not improve from 0.46186\n",
      "Epoch 24/25\n",
      "6680/6680 [==============================] - 3s 386us/step - loss: 0.3432 - acc: 0.8894 - val_loss: 0.5145 - val_acc: 0.8443\n",
      "\n",
      "Epoch 00024: val_loss did not improve from 0.46186\n",
      "Epoch 25/25\n",
      "6680/6680 [==============================] - 3s 381us/step - loss: 0.3224 - acc: 0.8984 - val_loss: 0.5503 - val_acc: 0.8443\n",
      "\n",
      "Epoch 00025: val_loss did not improve from 0.46186\n"
     ]
    },
    {
     "data": {
      "image/png": "[encoded data removed]",
      "text/plain": [
       "<Figure size 432x288 with 1 Axes>"
      ]
     },
     "metadata": {
      "needs_background": "light"
     },
     "output_type": "display_data"
    },
    {
     "data": {
      "image/png": "[encoded data removed]",
      "text/plain": [
       "<Figure size 432x288 with 1 Axes>"
      ]
     },
     "metadata": {
      "needs_background": "light"
     },
     "output_type": "display_data"
    }
   ],
   "source": [
    "from keras.callbacks import ModelCheckpoint  \n",
    "from keras.preprocessing.image import ImageDataGenerator\n",
    "\n",
    "train_datagen_augmentation_2 = ImageDataGenerator(\n",
    "                rotation_range=10,\n",
    "                width_shift_range=0.2,\n",
    "                height_shift_range=0.2,\n",
    "                shear_range=0.2,\n",
    "                zoom_range=0.1, \n",
    "                horizontal_flip = True)\n",
    "\n",
    "train_datagen_augmentation_2.fit(train_tensors)\n",
    "\n",
    "epochs=25\n",
    "\n",
    "batch_size=65\n",
    "\n",
    "checkpointer = ModelCheckpoint(filepath='saved_models/weights.best.Xception.hdf5', \n",
    "                               verbose=1, save_best_only=True)\n",
    "\n",
    "history = Xception_model.fit(train_Xception, train_targets,\n",
    "                validation_data=(valid_Xception, valid_targets),\n",
    "                epochs=epochs,\n",
    "                   callbacks=[checkpointer],\n",
    "                   verbose=1\n",
    "                  )\n",
    "\n",
    "# summarize history for accuracy\n",
    "plt.plot(history.history['acc'])\n",
    "plt.plot(history.history['val_acc'])\n",
    "plt.title('model accuracy')\n",
    "plt.ylabel('accuracy')\n",
    "plt.xlabel('epoch')\n",
    "plt.legend(['train', 'val'], loc='upper left')\n",
    "plt.show()\n",
    "# summarize history for loss\n",
    "plt.plot(history.history['loss'])\n",
    "plt.plot(history.history['val_loss'])\n",
    "plt.title('model loss')\n",
    "plt.ylabel('loss')\n",
    "plt.xlabel('epoch')\n",
    "plt.legend(['train', 'val'], loc='upper left')\n",
    "plt.show()"
   ]
  },
  {
   "cell_type": "code",
   "execution_count": 27,
   "metadata": {},
   "outputs": [],
   "source": [
    "Xception_model.load_weights(\"saved_models/weights.best.Xception.hdf5\")"
   ]
  },
  {
   "cell_type": "code",
   "execution_count": 28,
   "metadata": {},
   "outputs": [
    {
     "name": "stdout",
     "output_type": "stream",
     "text": [
      "Xception Test accuracy: 83.3732%\n"
     ]
    }
   ],
   "source": [
    "Xception_predictions = [np.argmax(Xception_model.predict(np.expand_dims(feature, axis=0))) for feature in test_Xception]\n",
    "\n",
    "test_accuracy = 100 * np.sum(np.array(Xception_predictions) == np.argmax(test_targets, axis=1)) / len(Xception_predictions)\n",
    "\n",
    "print(\"Xception Test accuracy: %.4f%%\" % test_accuracy)"
   ]
  }
 ],
 "metadata": {
  "anaconda-cloud": {},
  "kernelspec": {
   "display_name": "Python 3",
   "language": "python",
   "name": "python3"
  },
  "language_info": {
   "codemirror_mode": {
    "name": "ipython",
    "version": 3
   },
   "file_extension": ".py",
   "mimetype": "text/x-python",
   "name": "python",
   "nbconvert_exporter": "python",
   "pygments_lexer": "ipython3",
   "version": "3.5.6"
  }
 },
 "nbformat": 4,
 "nbformat_minor": 1
}
